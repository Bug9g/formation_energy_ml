{
 "cells": [
  {
   "cell_type": "code",
   "execution_count": null,
   "id": "ff04c38c",
   "metadata": {},
   "outputs": [],
   "source": [
    "%%bash\n",
    "export WANDB_API_KEY=\"f4efb71eca51923cbf984f07443b7c11ea506ec3\"\n",
    "mkdir -p /kaggle/working/checkpoints\n",
    "torchrun --nproc_per_node=1 \\\n",
    "  -m mattersim.training.finetune_mattersim \\\n",
    "  --run_name        mattersim_train \\\n",
    "  --train_data_path /kaggle/input/energy-molecules/train.xyz \\\n",
    "  --valid_data_path /kaggle/input/energy-molecules/val.xyz \\\n",
    "  --load_model_path /kaggle/working/mattersim/pretrained_models/mattersim-v1.0.0-5M.pth \\\n",
    "  --save_path       /kaggle/working/checkpoints \\\n",
    "  --save_checkpoint \\\n",
    "  --ckpt_interval   10 \\\n",
    "  --batch_size      64 \\\n",
    "  --lr              2e-4 \\\n",
    "  --step_size       20 \\\n",
    "  --epochs          100 \\\n",
    "  --no-include_forces \\\n",
    "  --no-include_stresses \\\n",
    "  --wandb \\\n",
    "  --wandb_project   mattersim_researchwork"
   ]
  }
 ],
 "metadata": {
  "language_info": {
   "name": "python"
  }
 },
 "nbformat": 4,
 "nbformat_minor": 5
}
