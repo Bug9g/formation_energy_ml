{
 "cells": [
  {
   "cell_type": "code",
   "execution_count": null,
   "id": "eb294bd0",
   "metadata": {},
   "outputs": [],
   "source": [
    "%%bash\n",
    "pip install --upgrade \\\n",
    "  \"nvidia-nvjitlink-cu12==12.4.127\" \\\n",
    "  --force-reinstall\n",
    "pip install --upgrade mattersim ase torch scikit-learn\n",
    "git clone https://github.com/microsoft/mattersim"
   ]
  }
 ],
 "metadata": {
  "language_info": {
   "name": "python"
  }
 },
 "nbformat": 4,
 "nbformat_minor": 5
}
